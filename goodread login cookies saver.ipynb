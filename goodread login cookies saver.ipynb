{
 "cells": [
  {
   "cell_type": "code",
   "execution_count": null,
   "metadata": {},
   "outputs": [],
   "source": [
    "from selenium import webdriver\n",
    "from selenium.webdriver.chrome.service import Service\n",
    "from webdriver_manager.chrome import ChromeDriverManager\n",
    "import pickle\n",
    "\n",
    "# Start a new WebDriver session\n",
    "service = Service(ChromeDriverManager().install())\n",
    "driver = webdriver.Chrome(service=service)\n",
    "\n",
    "# Open Goodreads login page\n",
    "driver.get(\"https://www.goodreads.com/user/sign_in\")\n",
    "\n",
    "# Wait for user to log in manually\n",
    "input(\"🔵 Press Enter after logging in...\")\n",
    "\n",
    "# Save cookies after login\n",
    "pickle.dump(driver.get_cookies(), open(\"cookies.pkl\", \"wb\"))\n",
    "\n",
    "print(\"✅ Cookies saved!\")\n",
    "\n",
    "# Keep the browser open for further actions\n",
    "input(\"🔵 Press Enter to exit...\")\n",
    "driver.quit()\n"
   ]
  }
 ],
 "metadata": {
  "kernelspec": {
   "display_name": "Python 3",
   "language": "python",
   "name": "python3"
  },
  "language_info": {
   "codemirror_mode": {
    "name": "ipython",
    "version": 3
   },
   "file_extension": ".py",
   "mimetype": "text/x-python",
   "name": "python",
   "nbconvert_exporter": "python",
   "pygments_lexer": "ipython3",
   "version": "3.12.8"
  }
 },
 "nbformat": 4,
 "nbformat_minor": 2
}
